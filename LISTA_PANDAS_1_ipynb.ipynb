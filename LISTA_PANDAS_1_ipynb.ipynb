{
  "nbformat": 4,
  "nbformat_minor": 0,
  "metadata": {
    "colab": {
      "name": "LISTA PANDAS 1 ipynb",
      "provenance": [],
      "authorship_tag": "ABX9TyNLApgLAO8N2UBTY7a7S0Sj",
      "include_colab_link": true
    },
    "kernelspec": {
      "name": "python3",
      "display_name": "Python 3"
    },
    "language_info": {
      "name": "python"
    }
  },
  "cells": [
    {
      "cell_type": "markdown",
      "metadata": {
        "id": "view-in-github",
        "colab_type": "text"
      },
      "source": [
        "<a href=\"https://colab.research.google.com/github/camilaccosta/Exerc-cios-m-dulo-1-/blob/main/LISTA_PANDAS_1_ipynb.ipynb\" target=\"_parent\"><img src=\"https://colab.research.google.com/assets/colab-badge.svg\" alt=\"Open In Colab\"/></a>"
      ]
    },
    {
      "cell_type": "markdown",
      "metadata": {
        "id": "S5KnBnMCVm61"
      },
      "source": [
        "**Questão 01**\n",
        "\n",
        "Em um concurso público foram contabilizados os números de pessoas inscritas (até a data inicialmente estabelecida para a inscrição) segundo os níveis de escolaridade: fundamental completo, médio completo, superior completo e pós-graduação completa. Segue abaixo a tabela com os valores observados.\n",
        "\n",
        "Nível de escolaridade\tInscritos\n",
        "Fundamental completo\t451\n",
        "Médio completo\t627\n",
        "Superior completo\t292\n",
        "Pós-graduação completa\t95\n",
        "Com base na tabela acima, crie uma Series com esses valores e calcule:\n",
        "\n",
        "(a) O número total de inscritos\n",
        "(b) Número inscritos que possuem, pelo menos, o superior completo.\n",
        "(c) Suponha que a inscrição foi prorrogada e, com isso, foi obtido um número adicional de inscrições: 68, 93, 22 e 0 inscritos a mais em cada uma das categorias de escolaridade apresentados na tabela acima (na mesma ordem). Assim, crie uma nova Series com esses valores.\n",
        "(d) Utilizando as duas Series que você tem, calcule o número total de inscritos após a prorrogação do período de inscrições."
      ]
    },
    {
      "cell_type": "code",
      "metadata": {
        "id": "zf64fPNGVXPR"
      },
      "source": [
        "import pandas as pd \n"
      ],
      "execution_count": null,
      "outputs": []
    },
    {
      "cell_type": "code",
      "metadata": {
        "colab": {
          "base_uri": "https://localhost:8080/"
        },
        "id": "z34gbl1vV6_L",
        "outputId": "fbeda0e1-4b77-447b-e908-47eaa4eaf1b1"
      },
      "source": [
        "lista= [451,627,292,95]\n",
        "pd.Series(data=lista, index=['Fundamental completo', 'Medio completo', 'Superior completo', 'Pós-graduação completa'])\n"
      ],
      "execution_count": null,
      "outputs": [
        {
          "output_type": "execute_result",
          "data": {
            "text/plain": [
              "Fundamental completo      451\n",
              "Medio completo            627\n",
              "Superior completo         292\n",
              "Pós-graduação completa     95\n",
              "dtype: int64"
            ]
          },
          "metadata": {},
          "execution_count": 46
        }
      ]
    },
    {
      "cell_type": "code",
      "metadata": {
        "colab": {
          "base_uri": "https://localhost:8080/"
        },
        "id": "L97LNPGqY2y0",
        "outputId": "1fe336a0-f185-49c1-f503-0f05bfb84a5e"
      },
      "source": [
        "#A)TOTAL DE INSCRITOS \n",
        "minhaSeries = pd.Series(data=lista, index=['Fundamental completo', 'Medio completo', 'Superior completo', 'Pós-graduação completa'])\n",
        "print(f\"O total de inscritos é igual a {minhaSeries.sum()} . \")"
      ],
      "execution_count": null,
      "outputs": [
        {
          "output_type": "stream",
          "name": "stdout",
          "text": [
            "O total de inscritos é igual a 1465 . \n"
          ]
        }
      ]
    },
    {
      "cell_type": "code",
      "metadata": {
        "colab": {
          "base_uri": "https://localhost:8080/"
        },
        "id": "HGhDTRoW0V65",
        "outputId": "970130ee-7ed1-451b-b119-051a3ece035b"
      },
      "source": [
        "#B) TOTAL DE INSCRITOS COM PELO MENOS SUPERIOR COMPLETO \n",
        "print(f\"O total de inscritos que tem pelo menos o superior completo  é igual a {minhaSeries[2:4].sum()} . \")"
      ],
      "execution_count": null,
      "outputs": [
        {
          "output_type": "stream",
          "name": "stdout",
          "text": [
            "O total de inscritos que tem pelo menos o superior completo  é igual a 387 . \n"
          ]
        }
      ]
    },
    {
      "cell_type": "code",
      "metadata": {
        "id": "pzJp0spq1f8Q"
      },
      "source": [
        "#C) numeros novos de inscritos  68, 93, 22 e 0.\n",
        "listaNova=[68,93,22,0]\n",
        "pd.Series(data=listaInscProrrogadas, index=['Fundamental completo', 'Medio completo', 'Superior completo', 'Pós-graduação completa'])\n",
        "serie_nova = pd.Series(data=listaInscProrrogadas, index=['Fundamental completo', 'Medio completo', 'Superior completo', 'Pós-graduação completa'])\n"
      ],
      "execution_count": null,
      "outputs": []
    },
    {
      "cell_type": "code",
      "metadata": {
        "colab": {
          "base_uri": "https://localhost:8080/"
        },
        "id": "6zLZ4y0t9GsH",
        "outputId": "6d7c9115-93fb-4e99-df46-6adb997f4390"
      },
      "source": [
        "print(serie_nova)"
      ],
      "execution_count": null,
      "outputs": [
        {
          "output_type": "stream",
          "name": "stdout",
          "text": [
            "Fundamental completo      68\n",
            "Medio completo            93\n",
            "Superior completo         22\n",
            "Pós-graduação completa     0\n",
            "dtype: int64\n"
          ]
        }
      ]
    },
    {
      "cell_type": "code",
      "metadata": {
        "colab": {
          "base_uri": "https://localhost:8080/"
        },
        "id": "mjFuNxnP9M-C",
        "outputId": "aaec8456-54a4-4186-9247-09ec8bfff886"
      },
      "source": [
        "#D) TOTAL DE INSCRITOS ATUALIZADO \n",
        "for i in range(0,4):\n",
        "  listaNova[i]= lista[i]+listaNova[i]\n",
        "print(listaNova)\n",
        "\n",
        "\n",
        "\n",
        "\n"
      ],
      "execution_count": null,
      "outputs": [
        {
          "output_type": "stream",
          "name": "stdout",
          "text": [
            "[519, 720, 314, 95]\n"
          ]
        }
      ]
    },
    {
      "cell_type": "code",
      "metadata": {
        "colab": {
          "base_uri": "https://localhost:8080/"
        },
        "id": "VKo050y6_tnO",
        "outputId": "7e1ce993-dd80-43bc-8e18-cdd9e87a7e94"
      },
      "source": [
        "\n",
        "pd.Series(data=listaNova, index=['Fundamental completo', 'Medio completo', 'Superior completo', 'Pós-graduação completa'])\n",
        "serieAtualizada = pd.Series(data=listaNova, index=['Fundamental completo', 'Medio completo', 'Superior completo', 'Pós-graduação completa'])\n",
        "print(f\"O total de inscritos é igual a {serieAtualizada.sum()} . \")"
      ],
      "execution_count": null,
      "outputs": [
        {
          "output_type": "stream",
          "name": "stdout",
          "text": [
            "O total de inscritos é igual a 1648 . \n"
          ]
        }
      ]
    },
    {
      "cell_type": "markdown",
      "metadata": {
        "id": "4yJ4FGwRBEna"
      },
      "source": [
        "**QUESTÃO 2**\n",
        "\n",
        "Uma turma de cinco alunos foi submetida a uma avaliação e a nota de cada um dos alunos é apresentada na tabela abaixo:\n",
        "\n",
        "Nome do Aluno\tNota\n",
        "\n",
        "Wilfred\t2\n",
        "\n",
        "Abbie\t7\n",
        "\n",
        "Harry\t5.5\n",
        "\n",
        "Julia\t10\n",
        "\n",
        "Carrie\t6.2\n",
        "\n",
        "(a) Crie uma Series com os valores da tabela acima.\n",
        "(b) Retorne o número de alunos que foram aprovados (considerando que a nota mínima para a aprovação é 7).\n",
        "(c) Qual foi a nota média da turma.\n",
        "(d) Obtenha o nome dos alunos que tiraram notas acima da média da turma."
      ]
    },
    {
      "cell_type": "code",
      "metadata": {
        "colab": {
          "base_uri": "https://localhost:8080/"
        },
        "id": "U8uuBd4xCfaM",
        "outputId": "d88fdd49-cc9d-49e1-d5ca-c4040731ceca"
      },
      "source": [
        "listaAlunos= [2, 7, 5.5, 10, 6.2]\n",
        "pd.Series(data=listaAlunos, index=['Wilfred', 'Abbie', 'Harry', 'Julia','Carrie'])\n",
        "alunos_series = pd.Series(data=listaAlunos, index=['Wilfred', 'Abbie', 'Harry', 'Julia','Carrie'])\n",
        "print(alunos_series)\n"
      ],
      "execution_count": null,
      "outputs": [
        {
          "output_type": "stream",
          "name": "stdout",
          "text": [
            "Wilfred     2.0\n",
            "Abbie       7.0\n",
            "Harry       5.5\n",
            "Julia      10.0\n",
            "Carrie      6.2\n",
            "dtype: float64\n"
          ]
        }
      ]
    },
    {
      "cell_type": "markdown",
      "metadata": {
        "id": "UNDIHfu-DO-e"
      },
      "source": [
        "(b) Retorne o número de alunos que foram aprovados (considerando que a nota mínima para a aprovação é 7. "
      ]
    },
    {
      "cell_type": "code",
      "metadata": {
        "colab": {
          "base_uri": "https://localhost:8080/"
        },
        "id": "q2o2dL-LXVx-",
        "outputId": "ecc6dce5-6694-4263-8327-1ed3cfe4f174"
      },
      "source": [
        "alunos_series[alunos_series >= 7].size"
      ],
      "execution_count": null,
      "outputs": [
        {
          "output_type": "execute_result",
          "data": {
            "text/plain": [
              "2"
            ]
          },
          "metadata": {},
          "execution_count": 5
        }
      ]
    },
    {
      "cell_type": "code",
      "metadata": {
        "colab": {
          "base_uri": "https://localhost:8080/"
        },
        "id": "-cdYAqSCDQx5",
        "outputId": "c3ba1c40-b0bc-4f75-9772-7f8cd6f67757"
      },
      "source": [
        "print(f\" {alunos_series[alunos_series >= 7].size} alunos foram aprovados. \")\n",
        "\n",
        "\n",
        "\n",
        "   "
      ],
      "execution_count": null,
      "outputs": [
        {
          "output_type": "stream",
          "name": "stdout",
          "text": [
            " 2 alunos foram aprovados. \n"
          ]
        }
      ]
    },
    {
      "cell_type": "markdown",
      "metadata": {
        "id": "zPrZPsLuE8zP"
      },
      "source": [
        "(c) Qual foi a nota média da turma\n"
      ]
    },
    {
      "cell_type": "code",
      "metadata": {
        "colab": {
          "base_uri": "https://localhost:8080/"
        },
        "id": "cL_HLbOUFCvQ",
        "outputId": "81e32af2-7375-4ad5-a7a5-4c1b013b064d"
      },
      "source": [
        "\n",
        "print(f\" A média da turma foi: {alunos_series.mean()} .\")\n",
        "\n"
      ],
      "execution_count": null,
      "outputs": [
        {
          "output_type": "stream",
          "name": "stdout",
          "text": [
            " A média da turma foi: 6.14 .\n"
          ]
        }
      ]
    },
    {
      "cell_type": "code",
      "metadata": {
        "colab": {
          "base_uri": "https://localhost:8080/"
        },
        "id": "uyPrqWpTZ1Pd",
        "outputId": "ea7dc651-e646-41ff-cb4c-22643067145f"
      },
      "source": [
        "alunos_series.mean()"
      ],
      "execution_count": null,
      "outputs": [
        {
          "output_type": "execute_result",
          "data": {
            "text/plain": [
              "6.14"
            ]
          },
          "metadata": {},
          "execution_count": 12
        }
      ]
    },
    {
      "cell_type": "code",
      "metadata": {
        "colab": {
          "base_uri": "https://localhost:8080/"
        },
        "id": "LAQHXYkrGwuY",
        "outputId": "5a1ba5f0-444b-4a6b-fe30-407b756a58a1"
      },
      "source": [
        "alunos_series[alunos_series >= alunos_series.mean() ].index\n",
        "\n"
      ],
      "execution_count": null,
      "outputs": [
        {
          "output_type": "execute_result",
          "data": {
            "text/plain": [
              "Index(['Abbie', 'Julia', 'Carrie'], dtype='object')"
            ]
          },
          "metadata": {},
          "execution_count": 13
        }
      ]
    },
    {
      "cell_type": "markdown",
      "metadata": {
        "id": "fSFkp1qclks6"
      },
      "source": [
        "**QUESTÃO 3** \n",
        "\n",
        "Crie um objeto DataFrame que contenha os dados da tabela abaixo, os quais se referem ao peso, altura e idade de cinco pessoas:\n",
        "\n",
        "Peso (kg)\tAltura (cm)\tIdade\n",
        "\n",
        "72\t180\t31\n",
        "\n",
        "80\t170\t21\n",
        "\n",
        "60\t175\t16\n",
        "\n",
        "90\t174\t28\n",
        "\n",
        "100\t185\t23\n",
        "\n",
        "Com base no DataFrame criado, realize o que pedido nos itens abaixo:\n",
        "\n",
        "\n",
        "(b) Obtenha a idade média das pessoas.\n",
        "(c) Obtenha os dados das pessoas que estão abaixo da altura média.\n",
        "(d) Crie um nova coluna no DataFrame que contenha o IMC (Índice de Massa Corporal) de cada pessoa.\n",
        "(e) Remova a coluna que contém a idade das pessoas.\n",
        "(f) Salve esses dados do DataFrame em um arquivo csv."
      ]
    },
    {
      "cell_type": "markdown",
      "metadata": {
        "id": "8-SJwY77l4he"
      },
      "source": [
        "(a) Visualize apenas os dados da coluna que contém a altura das pessoas.\n"
      ]
    },
    {
      "cell_type": "code",
      "metadata": {
        "id": "CUUwwKZBIQnf"
      },
      "source": [
        "data= {\n",
        "      \"Peso (Kg)\" :[72,80,60,90,100],\n",
        "      \"Altura(cm)\" :[180,170,175,174,185],\n",
        "      \"Idade\" :[31,21,16,28,23]\n",
        "}"
      ],
      "execution_count": null,
      "outputs": []
    },
    {
      "cell_type": "code",
      "metadata": {
        "colab": {
          "base_uri": "https://localhost:8080/"
        },
        "id": "K_AIRUHtJ3ah",
        "outputId": "a8e46916-48a3-463e-a13b-4dca291b297c"
      },
      "source": [
        "print(data)"
      ],
      "execution_count": null,
      "outputs": [
        {
          "output_type": "stream",
          "name": "stdout",
          "text": [
            "{'Peso (Kg)': [72, 80, 60, 90, 100], 'Altura(cm)': [180, 170, 175, 174, 185], 'Idade': [31, 21, 16, 28, 23]}\n"
          ]
        }
      ]
    },
    {
      "cell_type": "code",
      "metadata": {
        "id": "GrWww8nlIvbL"
      },
      "source": [
        "df_pessoas = pd.DataFrame(data, columns =[\"Peso (Kg)\", \"Altura(cm)\", \"Idade\"], index=['Pessoa1', 'Pessoa2', 'Pessoa3', 'Pessoa4','Pessoa5'])"
      ],
      "execution_count": null,
      "outputs": []
    },
    {
      "cell_type": "markdown",
      "metadata": {
        "id": "7EKW-aiDKSlH"
      },
      "source": [
        "(b) Obtenha a idade média das pessoas"
      ]
    },
    {
      "cell_type": "code",
      "metadata": {
        "colab": {
          "base_uri": "https://localhost:8080/"
        },
        "id": "kVUvB1J5KV8Q",
        "outputId": "284a00ef-abb9-4c37-af97-59578920407d"
      },
      "source": [
        "df_pessoas[\"Idade\"].mean()"
      ],
      "execution_count": null,
      "outputs": [
        {
          "output_type": "execute_result",
          "data": {
            "text/plain": [
              "23.8"
            ]
          },
          "metadata": {},
          "execution_count": 9
        }
      ]
    },
    {
      "cell_type": "markdown",
      "metadata": {
        "id": "QmWs_bgGLfp6"
      },
      "source": [
        "(c) Obtenha os dados das pessoas que estão abaixo da altura média. \n"
      ]
    },
    {
      "cell_type": "code",
      "metadata": {
        "colab": {
          "base_uri": "https://localhost:8080/",
          "height": 140
        },
        "id": "U5RiG6L_LkCB",
        "outputId": "9ef4b23c-f04d-4656-cf1f-eba391e2c459"
      },
      "source": [
        "df_pessoas[df_pessoas[\"Altura(cm)\"]< df_pessoas[\"Altura(cm)\"].mean()]"
      ],
      "execution_count": null,
      "outputs": [
        {
          "output_type": "execute_result",
          "data": {
            "text/html": [
              "<div>\n",
              "<style scoped>\n",
              "    .dataframe tbody tr th:only-of-type {\n",
              "        vertical-align: middle;\n",
              "    }\n",
              "\n",
              "    .dataframe tbody tr th {\n",
              "        vertical-align: top;\n",
              "    }\n",
              "\n",
              "    .dataframe thead th {\n",
              "        text-align: right;\n",
              "    }\n",
              "</style>\n",
              "<table border=\"1\" class=\"dataframe\">\n",
              "  <thead>\n",
              "    <tr style=\"text-align: right;\">\n",
              "      <th></th>\n",
              "      <th>Peso (Kg)</th>\n",
              "      <th>Altura(cm)</th>\n",
              "      <th>Idade</th>\n",
              "    </tr>\n",
              "  </thead>\n",
              "  <tbody>\n",
              "    <tr>\n",
              "      <th>Pessoa2</th>\n",
              "      <td>80</td>\n",
              "      <td>170</td>\n",
              "      <td>21</td>\n",
              "    </tr>\n",
              "    <tr>\n",
              "      <th>Pessoa3</th>\n",
              "      <td>60</td>\n",
              "      <td>175</td>\n",
              "      <td>16</td>\n",
              "    </tr>\n",
              "    <tr>\n",
              "      <th>Pessoa4</th>\n",
              "      <td>90</td>\n",
              "      <td>174</td>\n",
              "      <td>28</td>\n",
              "    </tr>\n",
              "  </tbody>\n",
              "</table>\n",
              "</div>"
            ],
            "text/plain": [
              "         Peso (Kg)  Altura(cm)  Idade\n",
              "Pessoa2         80         170     21\n",
              "Pessoa3         60         175     16\n",
              "Pessoa4         90         174     28"
            ]
          },
          "metadata": {},
          "execution_count": 10
        }
      ]
    },
    {
      "cell_type": "markdown",
      "metadata": {
        "id": "CZ36FMyeMWn2"
      },
      "source": [
        "(d) Crie um nova coluna no DataFrame que contenha o IMC (Índice de Massa Corporal) de cada pessoa."
      ]
    },
    {
      "cell_type": "code",
      "metadata": {
        "id": "uLkPDNX6MvPF"
      },
      "source": [
        "\n",
        "df_pessoas[\"IMC\"] = (df_pessoas[\"Peso (Kg)\"] / ((df_pessoas[\"Altura(cm)\"]/100)**2))"
      ],
      "execution_count": null,
      "outputs": []
    },
    {
      "cell_type": "code",
      "metadata": {
        "colab": {
          "base_uri": "https://localhost:8080/"
        },
        "id": "WCbIU4G_OP5y",
        "outputId": "3f5c5683-9313-4519-bd16-85ff9ec6e7e0"
      },
      "source": [
        "print(df_pessoas)"
      ],
      "execution_count": null,
      "outputs": [
        {
          "output_type": "stream",
          "name": "stdout",
          "text": [
            "         Peso (Kg)  Altura(cm)  Idade        IMC\n",
            "Pessoa1         72         180     31  22.222222\n",
            "Pessoa2         80         170     21  27.681661\n",
            "Pessoa3         60         175     16  19.591837\n",
            "Pessoa4         90         174     28  29.726516\n",
            "Pessoa5        100         185     23  29.218408\n"
          ]
        }
      ]
    },
    {
      "cell_type": "markdown",
      "metadata": {
        "id": "nHnInXpqMbgi"
      },
      "source": [
        "(e) Remova a coluna que contém a idade das pessoas. \n"
      ]
    },
    {
      "cell_type": "code",
      "metadata": {
        "colab": {
          "base_uri": "https://localhost:8080/",
          "height": 201
        },
        "id": "LUVoHbxOTrvj",
        "outputId": "a24d9e43-19ca-4502-b70c-6c7bd3eaac8c"
      },
      "source": [
        "df_pessoas.drop(columns = [\"Idade\"])"
      ],
      "execution_count": null,
      "outputs": [
        {
          "output_type": "execute_result",
          "data": {
            "text/html": [
              "<div>\n",
              "<style scoped>\n",
              "    .dataframe tbody tr th:only-of-type {\n",
              "        vertical-align: middle;\n",
              "    }\n",
              "\n",
              "    .dataframe tbody tr th {\n",
              "        vertical-align: top;\n",
              "    }\n",
              "\n",
              "    .dataframe thead th {\n",
              "        text-align: right;\n",
              "    }\n",
              "</style>\n",
              "<table border=\"1\" class=\"dataframe\">\n",
              "  <thead>\n",
              "    <tr style=\"text-align: right;\">\n",
              "      <th></th>\n",
              "      <th>Peso (Kg)</th>\n",
              "      <th>Altura(cm)</th>\n",
              "      <th>IMC</th>\n",
              "    </tr>\n",
              "  </thead>\n",
              "  <tbody>\n",
              "    <tr>\n",
              "      <th>Pessoa1</th>\n",
              "      <td>72</td>\n",
              "      <td>180</td>\n",
              "      <td>22.222222</td>\n",
              "    </tr>\n",
              "    <tr>\n",
              "      <th>Pessoa2</th>\n",
              "      <td>80</td>\n",
              "      <td>170</td>\n",
              "      <td>27.681661</td>\n",
              "    </tr>\n",
              "    <tr>\n",
              "      <th>Pessoa3</th>\n",
              "      <td>60</td>\n",
              "      <td>175</td>\n",
              "      <td>19.591837</td>\n",
              "    </tr>\n",
              "    <tr>\n",
              "      <th>Pessoa4</th>\n",
              "      <td>90</td>\n",
              "      <td>174</td>\n",
              "      <td>29.726516</td>\n",
              "    </tr>\n",
              "    <tr>\n",
              "      <th>Pessoa5</th>\n",
              "      <td>100</td>\n",
              "      <td>185</td>\n",
              "      <td>29.218408</td>\n",
              "    </tr>\n",
              "  </tbody>\n",
              "</table>\n",
              "</div>"
            ],
            "text/plain": [
              "         Peso (Kg)  Altura(cm)        IMC\n",
              "Pessoa1         72         180  22.222222\n",
              "Pessoa2         80         170  27.681661\n",
              "Pessoa3         60         175  19.591837\n",
              "Pessoa4         90         174  29.726516\n",
              "Pessoa5        100         185  29.218408"
            ]
          },
          "metadata": {},
          "execution_count": 13
        }
      ]
    },
    {
      "cell_type": "markdown",
      "metadata": {
        "id": "bD0hPLG4MeA5"
      },
      "source": [
        "(f) Salve esses dados do DataFrame em um arquivo csv."
      ]
    },
    {
      "cell_type": "code",
      "metadata": {
        "id": "yp4E_SPOWilx"
      },
      "source": [
        "df_pessoas.to_csv(\"L_Pandas1_Questao3.csv\", sep='\\t')"
      ],
      "execution_count": null,
      "outputs": []
    },
    {
      "cell_type": "markdown",
      "metadata": {
        "id": "dyBDHWAkNJtb"
      },
      "source": [
        "**QUESTÃO 4**\n",
        "\n",
        "Carregue, em um objeto DataFrame, o arquivo CSV que você salvou no item (f) da questão anterior. Em seguida,\n",
        "\n",
        "(a) Crie uma nova coluna que contenha o nome das pessoas (sinta-se à vontade para atribuir os nomes que preferir).\n",
        "\n",
        "(b) Defina a nova coluna criada (com os nomes) como o índice (index) do seu DataFrame.\n",
        "\n",
        "(c) Obtenha o nome das pessoas que são classificadas com Sobrepeso (IMC entre 25 e 29,9)."
      ]
    },
    {
      "cell_type": "code",
      "metadata": {
        "id": "jb_fWT_sNt-G"
      },
      "source": [
        "df_anterior= pd.read_csv(\"L_Pandas1_Questao3.csv\", sep='\\t')"
      ],
      "execution_count": null,
      "outputs": []
    },
    {
      "cell_type": "code",
      "metadata": {
        "colab": {
          "base_uri": "https://localhost:8080/",
          "height": 201
        },
        "id": "H9FzS1iuOCTw",
        "outputId": "84c84579-0f09-477b-8317-7bb3bc58f3ed"
      },
      "source": [
        "df_anterior.head()"
      ],
      "execution_count": null,
      "outputs": [
        {
          "output_type": "execute_result",
          "data": {
            "text/html": [
              "<div>\n",
              "<style scoped>\n",
              "    .dataframe tbody tr th:only-of-type {\n",
              "        vertical-align: middle;\n",
              "    }\n",
              "\n",
              "    .dataframe tbody tr th {\n",
              "        vertical-align: top;\n",
              "    }\n",
              "\n",
              "    .dataframe thead th {\n",
              "        text-align: right;\n",
              "    }\n",
              "</style>\n",
              "<table border=\"1\" class=\"dataframe\">\n",
              "  <thead>\n",
              "    <tr style=\"text-align: right;\">\n",
              "      <th></th>\n",
              "      <th>Unnamed: 0</th>\n",
              "      <th>Peso (Kg)</th>\n",
              "      <th>Altura(cm)</th>\n",
              "      <th>Idade</th>\n",
              "      <th>IMC</th>\n",
              "    </tr>\n",
              "  </thead>\n",
              "  <tbody>\n",
              "    <tr>\n",
              "      <th>0</th>\n",
              "      <td>Pessoa1</td>\n",
              "      <td>72</td>\n",
              "      <td>180</td>\n",
              "      <td>31</td>\n",
              "      <td>22.222222</td>\n",
              "    </tr>\n",
              "    <tr>\n",
              "      <th>1</th>\n",
              "      <td>Pessoa2</td>\n",
              "      <td>80</td>\n",
              "      <td>170</td>\n",
              "      <td>21</td>\n",
              "      <td>27.681661</td>\n",
              "    </tr>\n",
              "    <tr>\n",
              "      <th>2</th>\n",
              "      <td>Pessoa3</td>\n",
              "      <td>60</td>\n",
              "      <td>175</td>\n",
              "      <td>16</td>\n",
              "      <td>19.591837</td>\n",
              "    </tr>\n",
              "    <tr>\n",
              "      <th>3</th>\n",
              "      <td>Pessoa4</td>\n",
              "      <td>90</td>\n",
              "      <td>174</td>\n",
              "      <td>28</td>\n",
              "      <td>29.726516</td>\n",
              "    </tr>\n",
              "    <tr>\n",
              "      <th>4</th>\n",
              "      <td>Pessoa5</td>\n",
              "      <td>100</td>\n",
              "      <td>185</td>\n",
              "      <td>23</td>\n",
              "      <td>29.218408</td>\n",
              "    </tr>\n",
              "  </tbody>\n",
              "</table>\n",
              "</div>"
            ],
            "text/plain": [
              "  Unnamed: 0  Peso (Kg)  Altura(cm)  Idade        IMC\n",
              "0    Pessoa1         72         180     31  22.222222\n",
              "1    Pessoa2         80         170     21  27.681661\n",
              "2    Pessoa3         60         175     16  19.591837\n",
              "3    Pessoa4         90         174     28  29.726516\n",
              "4    Pessoa5        100         185     23  29.218408"
            ]
          },
          "metadata": {},
          "execution_count": 15
        }
      ]
    },
    {
      "cell_type": "markdown",
      "metadata": {
        "id": "lBc4TkiAONZA"
      },
      "source": [
        "(a) Crie uma nova coluna que contenha o nome das pessoas.\n",
        " \n",
        " "
      ]
    },
    {
      "cell_type": "code",
      "metadata": {
        "colab": {
          "base_uri": "https://localhost:8080/",
          "height": 201
        },
        "id": "96yC06-DOYTa",
        "outputId": "ce6b5f4a-1550-472b-d041-0e56fa89420e"
      },
      "source": [
        "df_anterior[\"Nomes\"]=[\"Camila\", \"Carolina\", \"Pedro\", \"João\",\"Victor\"]\n",
        "df_anterior.head()\n"
      ],
      "execution_count": null,
      "outputs": [
        {
          "output_type": "execute_result",
          "data": {
            "text/html": [
              "<div>\n",
              "<style scoped>\n",
              "    .dataframe tbody tr th:only-of-type {\n",
              "        vertical-align: middle;\n",
              "    }\n",
              "\n",
              "    .dataframe tbody tr th {\n",
              "        vertical-align: top;\n",
              "    }\n",
              "\n",
              "    .dataframe thead th {\n",
              "        text-align: right;\n",
              "    }\n",
              "</style>\n",
              "<table border=\"1\" class=\"dataframe\">\n",
              "  <thead>\n",
              "    <tr style=\"text-align: right;\">\n",
              "      <th></th>\n",
              "      <th>Peso (Kg)</th>\n",
              "      <th>Altura(cm)</th>\n",
              "      <th>Idade</th>\n",
              "      <th>IMC</th>\n",
              "      <th>Nomes</th>\n",
              "    </tr>\n",
              "  </thead>\n",
              "  <tbody>\n",
              "    <tr>\n",
              "      <th>0</th>\n",
              "      <td>72</td>\n",
              "      <td>180</td>\n",
              "      <td>31</td>\n",
              "      <td>22.222222</td>\n",
              "      <td>Camila</td>\n",
              "    </tr>\n",
              "    <tr>\n",
              "      <th>1</th>\n",
              "      <td>80</td>\n",
              "      <td>170</td>\n",
              "      <td>21</td>\n",
              "      <td>27.681661</td>\n",
              "      <td>Carolina</td>\n",
              "    </tr>\n",
              "    <tr>\n",
              "      <th>2</th>\n",
              "      <td>60</td>\n",
              "      <td>175</td>\n",
              "      <td>16</td>\n",
              "      <td>19.591837</td>\n",
              "      <td>Pedro</td>\n",
              "    </tr>\n",
              "    <tr>\n",
              "      <th>3</th>\n",
              "      <td>90</td>\n",
              "      <td>174</td>\n",
              "      <td>28</td>\n",
              "      <td>29.726516</td>\n",
              "      <td>João</td>\n",
              "    </tr>\n",
              "    <tr>\n",
              "      <th>4</th>\n",
              "      <td>100</td>\n",
              "      <td>185</td>\n",
              "      <td>23</td>\n",
              "      <td>29.218408</td>\n",
              "      <td>Victor</td>\n",
              "    </tr>\n",
              "  </tbody>\n",
              "</table>\n",
              "</div>"
            ],
            "text/plain": [
              "   Peso (Kg)  Altura(cm)  Idade        IMC     Nomes\n",
              "0         72         180     31  22.222222    Camila\n",
              "1         80         170     21  27.681661  Carolina\n",
              "2         60         175     16  19.591837     Pedro\n",
              "3         90         174     28  29.726516      João\n",
              "4        100         185     23  29.218408    Victor"
            ]
          },
          "metadata": {},
          "execution_count": 23
        }
      ]
    },
    {
      "cell_type": "code",
      "metadata": {
        "id": "euuqsMAVZvNZ"
      },
      "source": [
        ""
      ],
      "execution_count": null,
      "outputs": []
    },
    {
      "cell_type": "code",
      "metadata": {
        "colab": {
          "base_uri": "https://localhost:8080/",
          "height": 307
        },
        "id": "dEXVCHwBO0sw",
        "outputId": "6d584054-c43b-4049-dca8-ea23db127605"
      },
      "source": [
        "df_anterior.set_index(\"Nomes\", inplace =True )\n",
        "\n"
      ],
      "execution_count": null,
      "outputs": [
        {
          "output_type": "error",
          "ename": "KeyError",
          "evalue": "ignored",
          "traceback": [
            "\u001b[0;31m---------------------------------------------------------------------------\u001b[0m",
            "\u001b[0;31mKeyError\u001b[0m                                  Traceback (most recent call last)",
            "\u001b[0;32m<ipython-input-31-778ddc33f9e5>\u001b[0m in \u001b[0;36m<module>\u001b[0;34m()\u001b[0m\n\u001b[0;32m----> 1\u001b[0;31m \u001b[0mdf_anterior\u001b[0m\u001b[0;34m.\u001b[0m\u001b[0mset_index\u001b[0m\u001b[0;34m(\u001b[0m\u001b[0;34m\"Nomes\"\u001b[0m\u001b[0;34m,\u001b[0m \u001b[0minplace\u001b[0m \u001b[0;34m=\u001b[0m\u001b[0;32mTrue\u001b[0m \u001b[0;34m)\u001b[0m\u001b[0;34m\u001b[0m\u001b[0;34m\u001b[0m\u001b[0m\n\u001b[0m\u001b[1;32m      2\u001b[0m \u001b[0;34m\u001b[0m\u001b[0m\n\u001b[1;32m      3\u001b[0m \u001b[0mdf_anterior\u001b[0m\u001b[0;34m.\u001b[0m\u001b[0mhead\u001b[0m\u001b[0;34m(\u001b[0m\u001b[0;34m)\u001b[0m\u001b[0;34m\u001b[0m\u001b[0;34m\u001b[0m\u001b[0m\n",
            "\u001b[0;32m/usr/local/lib/python3.7/dist-packages/pandas/core/frame.py\u001b[0m in \u001b[0;36mset_index\u001b[0;34m(self, keys, drop, append, inplace, verify_integrity)\u001b[0m\n\u001b[1;32m   4553\u001b[0m \u001b[0;34m\u001b[0m\u001b[0m\n\u001b[1;32m   4554\u001b[0m         \u001b[0;32mif\u001b[0m \u001b[0mmissing\u001b[0m\u001b[0;34m:\u001b[0m\u001b[0;34m\u001b[0m\u001b[0;34m\u001b[0m\u001b[0m\n\u001b[0;32m-> 4555\u001b[0;31m             \u001b[0;32mraise\u001b[0m \u001b[0mKeyError\u001b[0m\u001b[0;34m(\u001b[0m\u001b[0;34mf\"None of {missing} are in the columns\"\u001b[0m\u001b[0;34m)\u001b[0m\u001b[0;34m\u001b[0m\u001b[0;34m\u001b[0m\u001b[0m\n\u001b[0m\u001b[1;32m   4556\u001b[0m \u001b[0;34m\u001b[0m\u001b[0m\n\u001b[1;32m   4557\u001b[0m         \u001b[0;32mif\u001b[0m \u001b[0minplace\u001b[0m\u001b[0;34m:\u001b[0m\u001b[0;34m\u001b[0m\u001b[0;34m\u001b[0m\u001b[0m\n",
            "\u001b[0;31mKeyError\u001b[0m: \"None of ['Nomes'] are in the columns\""
          ]
        }
      ]
    },
    {
      "cell_type": "code",
      "metadata": {
        "colab": {
          "base_uri": "https://localhost:8080/",
          "height": 231
        },
        "id": "cADkGZyRR18N",
        "outputId": "aa12f1a4-8523-4e5c-95c8-5918e7325a6c"
      },
      "source": [
        "df_anterior.head()"
      ],
      "execution_count": null,
      "outputs": [
        {
          "output_type": "execute_result",
          "data": {
            "text/html": [
              "<div>\n",
              "<style scoped>\n",
              "    .dataframe tbody tr th:only-of-type {\n",
              "        vertical-align: middle;\n",
              "    }\n",
              "\n",
              "    .dataframe tbody tr th {\n",
              "        vertical-align: top;\n",
              "    }\n",
              "\n",
              "    .dataframe thead th {\n",
              "        text-align: right;\n",
              "    }\n",
              "</style>\n",
              "<table border=\"1\" class=\"dataframe\">\n",
              "  <thead>\n",
              "    <tr style=\"text-align: right;\">\n",
              "      <th></th>\n",
              "      <th>Peso (Kg)</th>\n",
              "      <th>Altura(cm)</th>\n",
              "      <th>Idade</th>\n",
              "      <th>IMC</th>\n",
              "    </tr>\n",
              "    <tr>\n",
              "      <th>Nomes</th>\n",
              "      <th></th>\n",
              "      <th></th>\n",
              "      <th></th>\n",
              "      <th></th>\n",
              "    </tr>\n",
              "  </thead>\n",
              "  <tbody>\n",
              "    <tr>\n",
              "      <th>Camila</th>\n",
              "      <td>72</td>\n",
              "      <td>180</td>\n",
              "      <td>31</td>\n",
              "      <td>22.222222</td>\n",
              "    </tr>\n",
              "    <tr>\n",
              "      <th>Carolina</th>\n",
              "      <td>80</td>\n",
              "      <td>170</td>\n",
              "      <td>21</td>\n",
              "      <td>27.681661</td>\n",
              "    </tr>\n",
              "    <tr>\n",
              "      <th>Pedro</th>\n",
              "      <td>60</td>\n",
              "      <td>175</td>\n",
              "      <td>16</td>\n",
              "      <td>19.591837</td>\n",
              "    </tr>\n",
              "    <tr>\n",
              "      <th>João</th>\n",
              "      <td>90</td>\n",
              "      <td>174</td>\n",
              "      <td>28</td>\n",
              "      <td>29.726516</td>\n",
              "    </tr>\n",
              "    <tr>\n",
              "      <th>Victor</th>\n",
              "      <td>100</td>\n",
              "      <td>185</td>\n",
              "      <td>23</td>\n",
              "      <td>29.218408</td>\n",
              "    </tr>\n",
              "  </tbody>\n",
              "</table>\n",
              "</div>"
            ],
            "text/plain": [
              "          Peso (Kg)  Altura(cm)  Idade        IMC\n",
              "Nomes                                            \n",
              "Camila           72         180     31  22.222222\n",
              "Carolina         80         170     21  27.681661\n",
              "Pedro            60         175     16  19.591837\n",
              "João             90         174     28  29.726516\n",
              "Victor          100         185     23  29.218408"
            ]
          },
          "metadata": {},
          "execution_count": 32
        }
      ]
    },
    {
      "cell_type": "markdown",
      "metadata": {
        "id": "usjzPzn9R9Fi"
      },
      "source": [
        "(c) Obtenha o nome das pessoas que são classificadas com Sobrepeso (IMC entre 25 e 29,9).\n"
      ]
    },
    {
      "cell_type": "code",
      "metadata": {
        "colab": {
          "base_uri": "https://localhost:8080/"
        },
        "id": "UziQ6hYgR-P7",
        "outputId": "0f81a19e-3ffd-4896-ebc2-636ba5de80f4"
      },
      "source": [
        "df_anterior[(df_anterior[\"IMC\"]> 25 )].index"
      ],
      "execution_count": null,
      "outputs": [
        {
          "output_type": "execute_result",
          "data": {
            "text/plain": [
              "Index(['Carolina', 'João', 'Victor'], dtype='object', name='Nomes')"
            ]
          },
          "metadata": {},
          "execution_count": 42
        }
      ]
    },
    {
      "cell_type": "markdown",
      "metadata": {
        "id": "l4K3_i2HVsJE"
      },
      "source": [
        "**QUESTÃO 5**\n",
        "Carregue, em um objeto DataFrame, o mesmo dataset que você salvou na Questão 3. Em seguida,\n",
        "\n",
        "(a) Adicione uma nova coluna nesse DF chamada Classificação, que contenha a classificação de cada indivíduo, de acordo com o seu IMC. Para isso, consulte a tabela abaixo.\n",
        "\n",
        "IMC\tClassificação\tObesidade (grau)\n",
        "Menor que 18,5\tMagreza\t0\n",
        "Entre 18,5 e 24,9\tNormal\t0\n",
        "Entre 25,0 e 29,9\tSobrepeso\tI\n",
        "Entre 30,0 e 39,9\tObesidade\tII\n",
        "Maior que 40,0\tObesidade Grave\tIII\n",
        "(b) Salve em DataFrame no formato xlsx."
      ]
    },
    {
      "cell_type": "code",
      "metadata": {
        "id": "QwYYJ4ptWLao"
      },
      "source": [
        "df_questao5 = pd.read_csv(\"L_Pandas1_Questao3.csv\", sep='\\t')"
      ],
      "execution_count": null,
      "outputs": []
    },
    {
      "cell_type": "markdown",
      "metadata": {
        "id": "ZO6csM8qWWzr"
      },
      "source": [
        "(a) Adicione uma nova coluna nesse DF chamada Classificação, que contenha a classificação de cada indivíduo, de acordo com o seu IMC. Para isso, consulte a tabela abaixo.\n"
      ]
    },
    {
      "cell_type": "code",
      "metadata": {
        "colab": {
          "base_uri": "https://localhost:8080/",
          "height": 201
        },
        "id": "8w5uJYcvWZGb",
        "outputId": "9d0399ae-eb41-4855-8202-d0bbdc7acf8f"
      },
      "source": [
        "df_questao5[\"Classificação\"]= [\"Normal \",\" Obesidade \",\" Normal\",\" Obesidade \",\" Obesidade \"]\n",
        "df_questao5.head()"
      ],
      "execution_count": null,
      "outputs": [
        {
          "output_type": "execute_result",
          "data": {
            "text/html": [
              "<div>\n",
              "<style scoped>\n",
              "    .dataframe tbody tr th:only-of-type {\n",
              "        vertical-align: middle;\n",
              "    }\n",
              "\n",
              "    .dataframe tbody tr th {\n",
              "        vertical-align: top;\n",
              "    }\n",
              "\n",
              "    .dataframe thead th {\n",
              "        text-align: right;\n",
              "    }\n",
              "</style>\n",
              "<table border=\"1\" class=\"dataframe\">\n",
              "  <thead>\n",
              "    <tr style=\"text-align: right;\">\n",
              "      <th></th>\n",
              "      <th>Unnamed: 0</th>\n",
              "      <th>Peso (Kg)</th>\n",
              "      <th>Altura(cm)</th>\n",
              "      <th>Idade</th>\n",
              "      <th>IMC</th>\n",
              "      <th>Classificação</th>\n",
              "    </tr>\n",
              "  </thead>\n",
              "  <tbody>\n",
              "    <tr>\n",
              "      <th>0</th>\n",
              "      <td>Pessoa1</td>\n",
              "      <td>72</td>\n",
              "      <td>180</td>\n",
              "      <td>31</td>\n",
              "      <td>22.222222</td>\n",
              "      <td>Normal</td>\n",
              "    </tr>\n",
              "    <tr>\n",
              "      <th>1</th>\n",
              "      <td>Pessoa2</td>\n",
              "      <td>80</td>\n",
              "      <td>170</td>\n",
              "      <td>21</td>\n",
              "      <td>27.681661</td>\n",
              "      <td>Obesidade</td>\n",
              "    </tr>\n",
              "    <tr>\n",
              "      <th>2</th>\n",
              "      <td>Pessoa3</td>\n",
              "      <td>60</td>\n",
              "      <td>175</td>\n",
              "      <td>16</td>\n",
              "      <td>19.591837</td>\n",
              "      <td>Normal</td>\n",
              "    </tr>\n",
              "    <tr>\n",
              "      <th>3</th>\n",
              "      <td>Pessoa4</td>\n",
              "      <td>90</td>\n",
              "      <td>174</td>\n",
              "      <td>28</td>\n",
              "      <td>29.726516</td>\n",
              "      <td>Obesidade</td>\n",
              "    </tr>\n",
              "    <tr>\n",
              "      <th>4</th>\n",
              "      <td>Pessoa5</td>\n",
              "      <td>100</td>\n",
              "      <td>185</td>\n",
              "      <td>23</td>\n",
              "      <td>29.218408</td>\n",
              "      <td>Obesidade</td>\n",
              "    </tr>\n",
              "  </tbody>\n",
              "</table>\n",
              "</div>"
            ],
            "text/plain": [
              "  Unnamed: 0  Peso (Kg)  Altura(cm)  Idade        IMC Classificação\n",
              "0    Pessoa1         72         180     31  22.222222       Normal \n",
              "1    Pessoa2         80         170     21  27.681661    Obesidade \n",
              "2    Pessoa3         60         175     16  19.591837        Normal\n",
              "3    Pessoa4         90         174     28  29.726516    Obesidade \n",
              "4    Pessoa5        100         185     23  29.218408    Obesidade "
            ]
          },
          "metadata": {},
          "execution_count": 16
        }
      ]
    },
    {
      "cell_type": "code",
      "metadata": {
        "id": "Lf5np1QEXX40"
      },
      "source": [
        "df_questao5.drop(\tcolumns=[\"Unnamed: 0\"], inplace=True) #EXCLUINDO A COLUNA UNNAMED:0 "
      ],
      "execution_count": null,
      "outputs": []
    },
    {
      "cell_type": "code",
      "metadata": {
        "colab": {
          "base_uri": "https://localhost:8080/",
          "height": 201
        },
        "id": "JM-_L6p-XpBC",
        "outputId": "02fbb8bd-1646-458d-8c6f-2dce70d298fe"
      },
      "source": [
        "df_questao5.head()"
      ],
      "execution_count": null,
      "outputs": [
        {
          "output_type": "execute_result",
          "data": {
            "text/html": [
              "<div>\n",
              "<style scoped>\n",
              "    .dataframe tbody tr th:only-of-type {\n",
              "        vertical-align: middle;\n",
              "    }\n",
              "\n",
              "    .dataframe tbody tr th {\n",
              "        vertical-align: top;\n",
              "    }\n",
              "\n",
              "    .dataframe thead th {\n",
              "        text-align: right;\n",
              "    }\n",
              "</style>\n",
              "<table border=\"1\" class=\"dataframe\">\n",
              "  <thead>\n",
              "    <tr style=\"text-align: right;\">\n",
              "      <th></th>\n",
              "      <th>Peso (Kg)</th>\n",
              "      <th>Altura(cm)</th>\n",
              "      <th>Idade</th>\n",
              "      <th>IMC</th>\n",
              "      <th>Classificação</th>\n",
              "    </tr>\n",
              "  </thead>\n",
              "  <tbody>\n",
              "    <tr>\n",
              "      <th>0</th>\n",
              "      <td>72</td>\n",
              "      <td>180</td>\n",
              "      <td>31</td>\n",
              "      <td>22.222222</td>\n",
              "      <td>Normal</td>\n",
              "    </tr>\n",
              "    <tr>\n",
              "      <th>1</th>\n",
              "      <td>80</td>\n",
              "      <td>170</td>\n",
              "      <td>21</td>\n",
              "      <td>27.681661</td>\n",
              "      <td>Obesidade</td>\n",
              "    </tr>\n",
              "    <tr>\n",
              "      <th>2</th>\n",
              "      <td>60</td>\n",
              "      <td>175</td>\n",
              "      <td>16</td>\n",
              "      <td>19.591837</td>\n",
              "      <td>Normal</td>\n",
              "    </tr>\n",
              "    <tr>\n",
              "      <th>3</th>\n",
              "      <td>90</td>\n",
              "      <td>174</td>\n",
              "      <td>28</td>\n",
              "      <td>29.726516</td>\n",
              "      <td>Obesidade</td>\n",
              "    </tr>\n",
              "    <tr>\n",
              "      <th>4</th>\n",
              "      <td>100</td>\n",
              "      <td>185</td>\n",
              "      <td>23</td>\n",
              "      <td>29.218408</td>\n",
              "      <td>Obesidade</td>\n",
              "    </tr>\n",
              "  </tbody>\n",
              "</table>\n",
              "</div>"
            ],
            "text/plain": [
              "   Peso (Kg)  Altura(cm)  Idade        IMC Classificação\n",
              "0         72         180     31  22.222222       Normal \n",
              "1         80         170     21  27.681661    Obesidade \n",
              "2         60         175     16  19.591837        Normal\n",
              "3         90         174     28  29.726516    Obesidade \n",
              "4        100         185     23  29.218408    Obesidade "
            ]
          },
          "metadata": {},
          "execution_count": 18
        }
      ]
    },
    {
      "cell_type": "markdown",
      "metadata": {
        "id": "AGtmjW3NOwLx"
      },
      "source": [
        "b) Defina a nova coluna criada (com os nomes) como o índice (index) do seu DataFrame.\n"
      ]
    },
    {
      "cell_type": "code",
      "metadata": {
        "colab": {
          "base_uri": "https://localhost:8080/",
          "height": 231
        },
        "id": "6Wpd1AShXsup",
        "outputId": "17e1ef1b-9100-4743-fb23-04fc65828f40"
      },
      "source": [
        "df_questao5[\"Nomes\"]=[\"Camila\", \"Carolina\", \"Pedro\", \"João\",\"Victor\"]\n",
        "df_questao5.set_index(\"Nomes\")"
      ],
      "execution_count": null,
      "outputs": [
        {
          "output_type": "execute_result",
          "data": {
            "text/html": [
              "<div>\n",
              "<style scoped>\n",
              "    .dataframe tbody tr th:only-of-type {\n",
              "        vertical-align: middle;\n",
              "    }\n",
              "\n",
              "    .dataframe tbody tr th {\n",
              "        vertical-align: top;\n",
              "    }\n",
              "\n",
              "    .dataframe thead th {\n",
              "        text-align: right;\n",
              "    }\n",
              "</style>\n",
              "<table border=\"1\" class=\"dataframe\">\n",
              "  <thead>\n",
              "    <tr style=\"text-align: right;\">\n",
              "      <th></th>\n",
              "      <th>Peso (Kg)</th>\n",
              "      <th>Altura(cm)</th>\n",
              "      <th>Idade</th>\n",
              "      <th>IMC</th>\n",
              "      <th>Classificação</th>\n",
              "    </tr>\n",
              "    <tr>\n",
              "      <th>Nomes</th>\n",
              "      <th></th>\n",
              "      <th></th>\n",
              "      <th></th>\n",
              "      <th></th>\n",
              "      <th></th>\n",
              "    </tr>\n",
              "  </thead>\n",
              "  <tbody>\n",
              "    <tr>\n",
              "      <th>Camila</th>\n",
              "      <td>72</td>\n",
              "      <td>180</td>\n",
              "      <td>31</td>\n",
              "      <td>22.222222</td>\n",
              "      <td>Normal</td>\n",
              "    </tr>\n",
              "    <tr>\n",
              "      <th>Carolina</th>\n",
              "      <td>80</td>\n",
              "      <td>170</td>\n",
              "      <td>21</td>\n",
              "      <td>27.681661</td>\n",
              "      <td>Obesidade</td>\n",
              "    </tr>\n",
              "    <tr>\n",
              "      <th>Pedro</th>\n",
              "      <td>60</td>\n",
              "      <td>175</td>\n",
              "      <td>16</td>\n",
              "      <td>19.591837</td>\n",
              "      <td>Normal</td>\n",
              "    </tr>\n",
              "    <tr>\n",
              "      <th>João</th>\n",
              "      <td>90</td>\n",
              "      <td>174</td>\n",
              "      <td>28</td>\n",
              "      <td>29.726516</td>\n",
              "      <td>Obesidade</td>\n",
              "    </tr>\n",
              "    <tr>\n",
              "      <th>Victor</th>\n",
              "      <td>100</td>\n",
              "      <td>185</td>\n",
              "      <td>23</td>\n",
              "      <td>29.218408</td>\n",
              "      <td>Obesidade</td>\n",
              "    </tr>\n",
              "  </tbody>\n",
              "</table>\n",
              "</div>"
            ],
            "text/plain": [
              "          Peso (Kg)  Altura(cm)  Idade        IMC Classificação\n",
              "Nomes                                                          \n",
              "Camila           72         180     31  22.222222       Normal \n",
              "Carolina         80         170     21  27.681661    Obesidade \n",
              "Pedro            60         175     16  19.591837        Normal\n",
              "João             90         174     28  29.726516    Obesidade \n",
              "Victor          100         185     23  29.218408    Obesidade "
            ]
          },
          "metadata": {},
          "execution_count": 19
        }
      ]
    },
    {
      "cell_type": "code",
      "metadata": {
        "id": "MjQ1zQuVYYVr"
      },
      "source": [
        "df_questao5.to_excel(\"L_Pandas1_Questao5.xlsx\")\n"
      ],
      "execution_count": null,
      "outputs": []
    },
    {
      "cell_type": "code",
      "metadata": {
        "id": "M0TzhzzT-0WT"
      },
      "source": [
        ""
      ],
      "execution_count": null,
      "outputs": []
    }
  ]
}