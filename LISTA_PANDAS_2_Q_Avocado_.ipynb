{
  "nbformat": 4,
  "nbformat_minor": 0,
  "metadata": {
    "colab": {
      "name": "LISTA PANDAS 2- Q. Avocado .ipynb",
      "provenance": [],
      "authorship_tag": "ABX9TyPgHSlulXNBEYaMPSuKnDHa",
      "include_colab_link": true
    },
    "kernelspec": {
      "name": "python3",
      "display_name": "Python 3"
    },
    "language_info": {
      "name": "python"
    }
  },
  "cells": [
    {
      "cell_type": "markdown",
      "metadata": {
        "id": "view-in-github",
        "colab_type": "text"
      },
      "source": [
        "<a href=\"https://colab.research.google.com/github/camilaccosta/Exerc-cios-m-dulo-1-/blob/main/LISTA_PANDAS_2_Q_Avocado_.ipynb\" target=\"_parent\"><img src=\"https://colab.research.google.com/assets/colab-badge.svg\" alt=\"Open In Colab\"/></a>"
      ]
    },
    {
      "cell_type": "code",
      "metadata": {
        "id": "b2o5GePfmQpT"
      },
      "source": [
        "import pandas as pd \n"
      ],
      "execution_count": null,
      "outputs": []
    },
    {
      "cell_type": "markdown",
      "metadata": {
        "id": "LB6i924VljXN"
      },
      "source": [
        "**QUESTÃO 01** \n",
        "\n",
        "O arquivo avocado.csv consiste em um dataset que contém dados sobre vendas de abacates (avocado, em inglês) em diversas regiões dos Estados Unidos. Essa dataset contém as seguintes colunas:\n",
        "\n",
        "**Date -** a data da observação \n",
        "\n",
        "**AveragePrice -** o preço médio de um único abacate\n",
        "\n",
        "**year -** o ano\n",
        "\n",
        "**region -** a cidade ou região da observação\n",
        "\n",
        "Total Volume - volume total de abacates vendidos\n",
        "\n",
        "Além das informações acima, contidas no arquivo avocado.csv, o tipo do abacate (convencional ou orgânico) também seria uma informação importante para a sua análise. Suponhamos que você conseguiu essas informações para cada uma das observações do arquivo avocado.csv, na mesma ordem, e salvou-as no arquivo avocado_type.csv. Portanto, tudo o que você precisa é juntar esses dois arquivos em um mesmo DataFrame. E, em seguida, salve-o em um arquivo csv.\n",
        "\n",
        "PS. Caso queira criar uma Series com os dados aleatórios para o tipo de abacate, utilize o código abaixo:\n",
        "\n",
        "tipos = pd.Series(np.random.randint(0, 2, df_avocado.shape[0]))\n",
        "tipos = tipos.map({0: 'convencional', 1:'orgânico'})"
      ]
    },
    {
      "cell_type": "code",
      "metadata": {
        "id": "8yaR6_Mbk42U"
      },
      "source": [
        "#Ler o arquivo \n",
        "avocado=pd.read_csv(\"avocado.csv\") \n",
        "avocado_type = pd.read_csv(\"avocado_type.csv\")"
      ],
      "execution_count": null,
      "outputs": []
    },
    {
      "cell_type": "code",
      "metadata": {
        "colab": {
          "base_uri": "https://localhost:8080/",
          "height": 201
        },
        "id": "NDphio60msMm",
        "outputId": "d33515db-af36-4664-a562-ec60182a3336"
      },
      "source": [
        "avocado.head() # .head: Mostra as 5 primeiras linhas do arquivo"
      ],
      "execution_count": null,
      "outputs": [
        {
          "output_type": "execute_result",
          "data": {
            "text/html": [
              "<div>\n",
              "<style scoped>\n",
              "    .dataframe tbody tr th:only-of-type {\n",
              "        vertical-align: middle;\n",
              "    }\n",
              "\n",
              "    .dataframe tbody tr th {\n",
              "        vertical-align: top;\n",
              "    }\n",
              "\n",
              "    .dataframe thead th {\n",
              "        text-align: right;\n",
              "    }\n",
              "</style>\n",
              "<table border=\"1\" class=\"dataframe\">\n",
              "  <thead>\n",
              "    <tr style=\"text-align: right;\">\n",
              "      <th></th>\n",
              "      <th>Date</th>\n",
              "      <th>AveragePrice</th>\n",
              "      <th>Total Volume</th>\n",
              "      <th>year</th>\n",
              "      <th>region</th>\n",
              "    </tr>\n",
              "  </thead>\n",
              "  <tbody>\n",
              "    <tr>\n",
              "      <th>0</th>\n",
              "      <td>2015-12-27</td>\n",
              "      <td>1.33</td>\n",
              "      <td>64236.62</td>\n",
              "      <td>2015</td>\n",
              "      <td>Albany</td>\n",
              "    </tr>\n",
              "    <tr>\n",
              "      <th>1</th>\n",
              "      <td>2015-12-20</td>\n",
              "      <td>1.35</td>\n",
              "      <td>54876.98</td>\n",
              "      <td>2015</td>\n",
              "      <td>Albany</td>\n",
              "    </tr>\n",
              "    <tr>\n",
              "      <th>2</th>\n",
              "      <td>2015-12-13</td>\n",
              "      <td>0.93</td>\n",
              "      <td>118220.22</td>\n",
              "      <td>2015</td>\n",
              "      <td>Albany</td>\n",
              "    </tr>\n",
              "    <tr>\n",
              "      <th>3</th>\n",
              "      <td>2015-12-06</td>\n",
              "      <td>1.08</td>\n",
              "      <td>78992.15</td>\n",
              "      <td>2015</td>\n",
              "      <td>Albany</td>\n",
              "    </tr>\n",
              "    <tr>\n",
              "      <th>4</th>\n",
              "      <td>2015-11-29</td>\n",
              "      <td>1.28</td>\n",
              "      <td>51039.60</td>\n",
              "      <td>2015</td>\n",
              "      <td>Albany</td>\n",
              "    </tr>\n",
              "  </tbody>\n",
              "</table>\n",
              "</div>"
            ],
            "text/plain": [
              "         Date  AveragePrice  Total Volume  year  region\n",
              "0  2015-12-27          1.33      64236.62  2015  Albany\n",
              "1  2015-12-20          1.35      54876.98  2015  Albany\n",
              "2  2015-12-13          0.93     118220.22  2015  Albany\n",
              "3  2015-12-06          1.08      78992.15  2015  Albany\n",
              "4  2015-11-29          1.28      51039.60  2015  Albany"
            ]
          },
          "metadata": {},
          "execution_count": 12
        }
      ]
    },
    {
      "cell_type": "code",
      "metadata": {
        "colab": {
          "base_uri": "https://localhost:8080/",
          "height": 201
        },
        "id": "Zq9HcqMtmyuq",
        "outputId": "bc79eb99-688b-4a6b-80d8-573dd8b8048e"
      },
      "source": [
        "avocado_type.head()"
      ],
      "execution_count": null,
      "outputs": [
        {
          "output_type": "execute_result",
          "data": {
            "text/html": [
              "<div>\n",
              "<style scoped>\n",
              "    .dataframe tbody tr th:only-of-type {\n",
              "        vertical-align: middle;\n",
              "    }\n",
              "\n",
              "    .dataframe tbody tr th {\n",
              "        vertical-align: top;\n",
              "    }\n",
              "\n",
              "    .dataframe thead th {\n",
              "        text-align: right;\n",
              "    }\n",
              "</style>\n",
              "<table border=\"1\" class=\"dataframe\">\n",
              "  <thead>\n",
              "    <tr style=\"text-align: right;\">\n",
              "      <th></th>\n",
              "      <th>type</th>\n",
              "    </tr>\n",
              "  </thead>\n",
              "  <tbody>\n",
              "    <tr>\n",
              "      <th>0</th>\n",
              "      <td>conventional</td>\n",
              "    </tr>\n",
              "    <tr>\n",
              "      <th>1</th>\n",
              "      <td>conventional</td>\n",
              "    </tr>\n",
              "    <tr>\n",
              "      <th>2</th>\n",
              "      <td>conventional</td>\n",
              "    </tr>\n",
              "    <tr>\n",
              "      <th>3</th>\n",
              "      <td>conventional</td>\n",
              "    </tr>\n",
              "    <tr>\n",
              "      <th>4</th>\n",
              "      <td>conventional</td>\n",
              "    </tr>\n",
              "  </tbody>\n",
              "</table>\n",
              "</div>"
            ],
            "text/plain": [
              "           type\n",
              "0  conventional\n",
              "1  conventional\n",
              "2  conventional\n",
              "3  conventional\n",
              "4  conventional"
            ]
          },
          "metadata": {},
          "execution_count": 32
        }
      ]
    },
    {
      "cell_type": "markdown",
      "metadata": {
        "id": "n-vGRynynIy8"
      },
      "source": [
        "**(A)** tudo o que você precisa é juntar esses dois arquivos em um mesmo DataFrame. E, em seguida, salve-o em um arquivo csv."
      ]
    },
    {
      "cell_type": "code",
      "metadata": {
        "id": "g5v5Jr21nSoh"
      },
      "source": [
        "# .merge(): Realizar a união das duas planilhas. Esse método é bem flexível e pode ser escolhida qualquer coluna como ponto de união.Nesse caso\n",
        "# usamos o próprio index. Obs: Poderia ter utilizado o método Join (.join), que não é flexível e somente é possível a utilização da coluna index \n",
        "# como ponto de união. \n",
        "\n",
        "\n",
        "avocado_completo= avocado.merge(avocado_type, how='inner', left_index=True, right_index=True)"
      ],
      "execution_count": null,
      "outputs": []
    },
    {
      "cell_type": "code",
      "metadata": {
        "colab": {
          "base_uri": "https://localhost:8080/",
          "height": 201
        },
        "id": "16EtEKdVpgPP",
        "outputId": "321e25cd-4e9b-445c-8417-5d1c0ae590d2"
      },
      "source": [
        "avocado_completo.head()"
      ],
      "execution_count": null,
      "outputs": [
        {
          "output_type": "execute_result",
          "data": {
            "text/html": [
              "<div>\n",
              "<style scoped>\n",
              "    .dataframe tbody tr th:only-of-type {\n",
              "        vertical-align: middle;\n",
              "    }\n",
              "\n",
              "    .dataframe tbody tr th {\n",
              "        vertical-align: top;\n",
              "    }\n",
              "\n",
              "    .dataframe thead th {\n",
              "        text-align: right;\n",
              "    }\n",
              "</style>\n",
              "<table border=\"1\" class=\"dataframe\">\n",
              "  <thead>\n",
              "    <tr style=\"text-align: right;\">\n",
              "      <th></th>\n",
              "      <th>Date</th>\n",
              "      <th>AveragePrice</th>\n",
              "      <th>Total Volume</th>\n",
              "      <th>year</th>\n",
              "      <th>region</th>\n",
              "      <th>type</th>\n",
              "    </tr>\n",
              "  </thead>\n",
              "  <tbody>\n",
              "    <tr>\n",
              "      <th>0</th>\n",
              "      <td>2015-12-27</td>\n",
              "      <td>1.33</td>\n",
              "      <td>64236.62</td>\n",
              "      <td>2015</td>\n",
              "      <td>Albany</td>\n",
              "      <td>conventional</td>\n",
              "    </tr>\n",
              "    <tr>\n",
              "      <th>1</th>\n",
              "      <td>2015-12-20</td>\n",
              "      <td>1.35</td>\n",
              "      <td>54876.98</td>\n",
              "      <td>2015</td>\n",
              "      <td>Albany</td>\n",
              "      <td>conventional</td>\n",
              "    </tr>\n",
              "    <tr>\n",
              "      <th>2</th>\n",
              "      <td>2015-12-13</td>\n",
              "      <td>0.93</td>\n",
              "      <td>118220.22</td>\n",
              "      <td>2015</td>\n",
              "      <td>Albany</td>\n",
              "      <td>conventional</td>\n",
              "    </tr>\n",
              "    <tr>\n",
              "      <th>3</th>\n",
              "      <td>2015-12-06</td>\n",
              "      <td>1.08</td>\n",
              "      <td>78992.15</td>\n",
              "      <td>2015</td>\n",
              "      <td>Albany</td>\n",
              "      <td>conventional</td>\n",
              "    </tr>\n",
              "    <tr>\n",
              "      <th>4</th>\n",
              "      <td>2015-11-29</td>\n",
              "      <td>1.28</td>\n",
              "      <td>51039.60</td>\n",
              "      <td>2015</td>\n",
              "      <td>Albany</td>\n",
              "      <td>conventional</td>\n",
              "    </tr>\n",
              "  </tbody>\n",
              "</table>\n",
              "</div>"
            ],
            "text/plain": [
              "         Date  AveragePrice  Total Volume  year  region          type\n",
              "0  2015-12-27          1.33      64236.62  2015  Albany  conventional\n",
              "1  2015-12-20          1.35      54876.98  2015  Albany  conventional\n",
              "2  2015-12-13          0.93     118220.22  2015  Albany  conventional\n",
              "3  2015-12-06          1.08      78992.15  2015  Albany  conventional\n",
              "4  2015-11-29          1.28      51039.60  2015  Albany  conventional"
            ]
          },
          "metadata": {},
          "execution_count": 14
        }
      ]
    },
    {
      "cell_type": "markdown",
      "metadata": {
        "id": "QK5b1U2lqXWr"
      },
      "source": [
        "**(B)** Salvar em um arquivo csv"
      ]
    },
    {
      "cell_type": "code",
      "metadata": {
        "id": "4Lwy7dG9qWtk"
      },
      "source": [
        "avocado_completo.to_csv(\"L2_Pandas_Questao1_Avocado.csv\", sep=\"\\t\")"
      ],
      "execution_count": null,
      "outputs": []
    },
    {
      "cell_type": "markdown",
      "metadata": {
        "id": "rscYE7wNrMJi"
      },
      "source": [
        "**QUESTÃO 2**\n",
        "\n",
        "Carregue o arquivo csv que você salvou na questão anterior e, em seguida, obtenha o que é solicitado nos itens elencados abaixo:\n",
        "\n",
        "\n",
        "(a) A quantidade de abacates do tipo convecional e do tipo orgânico.\n",
        "\n",
        "(b) A quantidade de registros (linhas) de abacates vendidos para cada região.\n",
        "\n",
        "(c) Para que todos os labels das colunas fiquem padronizados, renomeie aqueles que estão iniciando em letra minúscula para que iniciem em letra maiúscula.\n",
        "\n",
        "(d) Uma vez que você já possui uma coluna com a data, remova a coluna que apresenta o ano."
      ]
    },
    {
      "cell_type": "code",
      "metadata": {
        "id": "NkVM-TXKrYhl"
      },
      "source": [
        "avocado_completo = pd.read_csv(\"L2_Pandas_Questao1_Avocado.csv\", sep=\"\\t\") #Leitura do arquivo csv.\n"
      ],
      "execution_count": 45,
      "outputs": []
    },
    {
      "cell_type": "markdown",
      "metadata": {
        "id": "mmoKDCGZrtXv"
      },
      "source": [
        "**(a)** A quantidade de abacates do tipo convecional e do tipo orgânico."
      ]
    },
    {
      "cell_type": "code",
      "metadata": {
        "id": "92ZbyK5vsXhy",
        "colab": {
          "base_uri": "https://localhost:8080/"
        },
        "outputId": "d75ca38f-97ee-4f38-e81a-58ee01159535"
      },
      "source": [
        "colunas_selecionadas =[\"Total Volume\", \"type\"]\n",
        "avocados_selecao_tipos = avocado_completo.filter(items = colunas_selecionadas)\n",
        "avocados_selecao_tipos.groupby([\"type\"]).size()\n"
      ],
      "execution_count": 74,
      "outputs": [
        {
          "output_type": "execute_result",
          "data": {
            "text/plain": [
              "type\n",
              "conventional    9126\n",
              "organic         9123\n",
              "dtype: int64"
            ]
          },
          "metadata": {},
          "execution_count": 74
        }
      ]
    },
    {
      "cell_type": "markdown",
      "metadata": {
        "id": "bXOLpYIpDA5v"
      },
      "source": [
        "**(b)** A quantidade de registros (linhas) de abacates vendidos para cada região."
      ]
    },
    {
      "cell_type": "code",
      "metadata": {
        "colab": {
          "base_uri": "https://localhost:8080/"
        },
        "id": "wiFUfNtBC4LB",
        "outputId": "0d6434f3-9453-444b-9009-cf9a2e2581d8"
      },
      "source": [
        "avocado_completo.groupby([\"Region\"]).size()"
      ],
      "execution_count": 66,
      "outputs": [
        {
          "output_type": "execute_result",
          "data": {
            "text/plain": [
              "Region\n",
              "Albany                 338\n",
              "Atlanta                338\n",
              "BaltimoreWashington    338\n",
              "Boise                  338\n",
              "Boston                 338\n",
              "BuffaloRochester       338\n",
              "California             338\n",
              "Charlotte              338\n",
              "Chicago                338\n",
              "CincinnatiDayton       338\n",
              "Columbus               338\n",
              "DallasFtWorth          338\n",
              "Denver                 338\n",
              "Detroit                338\n",
              "GrandRapids            338\n",
              "GreatLakes             338\n",
              "HarrisburgScranton     338\n",
              "HartfordSpringfield    338\n",
              "Houston                338\n",
              "Indianapolis           338\n",
              "Jacksonville           338\n",
              "LasVegas               338\n",
              "LosAngeles             338\n",
              "Louisville             338\n",
              "MiamiFtLauderdale      338\n",
              "Midsouth               338\n",
              "Nashville              338\n",
              "NewOrleansMobile       338\n",
              "NewYork                338\n",
              "Northeast              338\n",
              "NorthernNewEngland     338\n",
              "Orlando                338\n",
              "Philadelphia           338\n",
              "PhoenixTucson          338\n",
              "Pittsburgh             338\n",
              "Plains                 338\n",
              "Portland               338\n",
              "RaleighGreensboro      338\n",
              "RichmondNorfolk        338\n",
              "Roanoke                338\n",
              "Sacramento             338\n",
              "SanDiego               338\n",
              "SanFrancisco           338\n",
              "Seattle                338\n",
              "SouthCarolina          338\n",
              "SouthCentral           338\n",
              "Southeast              338\n",
              "Spokane                338\n",
              "StLouis                338\n",
              "Syracuse               338\n",
              "Tampa                  338\n",
              "TotalUS                338\n",
              "West                   338\n",
              "WestTexNewMexico       335\n",
              "dtype: int64"
            ]
          },
          "metadata": {},
          "execution_count": 66
        }
      ]
    },
    {
      "cell_type": "code",
      "metadata": {
        "colab": {
          "base_uri": "https://localhost:8080/",
          "height": 411
        },
        "id": "QJzYy6uJDhF-",
        "outputId": "8ce43b38-62b6-4aba-8469-672fabda13d5"
      },
      "source": [
        "avocado_completo"
      ],
      "execution_count": 67,
      "outputs": [
        {
          "output_type": "execute_result",
          "data": {
            "text/html": [
              "<div>\n",
              "<style scoped>\n",
              "    .dataframe tbody tr th:only-of-type {\n",
              "        vertical-align: middle;\n",
              "    }\n",
              "\n",
              "    .dataframe tbody tr th {\n",
              "        vertical-align: top;\n",
              "    }\n",
              "\n",
              "    .dataframe thead th {\n",
              "        text-align: right;\n",
              "    }\n",
              "</style>\n",
              "<table border=\"1\" class=\"dataframe\">\n",
              "  <thead>\n",
              "    <tr style=\"text-align: right;\">\n",
              "      <th></th>\n",
              "      <th>Unnamed: 0</th>\n",
              "      <th>Date</th>\n",
              "      <th>AveragePrice</th>\n",
              "      <th>Total Volume</th>\n",
              "      <th>Region</th>\n",
              "      <th>Type</th>\n",
              "    </tr>\n",
              "  </thead>\n",
              "  <tbody>\n",
              "    <tr>\n",
              "      <th>0</th>\n",
              "      <td>0</td>\n",
              "      <td>2015-12-27</td>\n",
              "      <td>1.33</td>\n",
              "      <td>64236.62</td>\n",
              "      <td>Albany</td>\n",
              "      <td>conventional</td>\n",
              "    </tr>\n",
              "    <tr>\n",
              "      <th>1</th>\n",
              "      <td>1</td>\n",
              "      <td>2015-12-20</td>\n",
              "      <td>1.35</td>\n",
              "      <td>54876.98</td>\n",
              "      <td>Albany</td>\n",
              "      <td>conventional</td>\n",
              "    </tr>\n",
              "    <tr>\n",
              "      <th>2</th>\n",
              "      <td>2</td>\n",
              "      <td>2015-12-13</td>\n",
              "      <td>0.93</td>\n",
              "      <td>118220.22</td>\n",
              "      <td>Albany</td>\n",
              "      <td>conventional</td>\n",
              "    </tr>\n",
              "    <tr>\n",
              "      <th>3</th>\n",
              "      <td>3</td>\n",
              "      <td>2015-12-06</td>\n",
              "      <td>1.08</td>\n",
              "      <td>78992.15</td>\n",
              "      <td>Albany</td>\n",
              "      <td>conventional</td>\n",
              "    </tr>\n",
              "    <tr>\n",
              "      <th>4</th>\n",
              "      <td>4</td>\n",
              "      <td>2015-11-29</td>\n",
              "      <td>1.28</td>\n",
              "      <td>51039.60</td>\n",
              "      <td>Albany</td>\n",
              "      <td>conventional</td>\n",
              "    </tr>\n",
              "    <tr>\n",
              "      <th>...</th>\n",
              "      <td>...</td>\n",
              "      <td>...</td>\n",
              "      <td>...</td>\n",
              "      <td>...</td>\n",
              "      <td>...</td>\n",
              "      <td>...</td>\n",
              "    </tr>\n",
              "    <tr>\n",
              "      <th>18244</th>\n",
              "      <td>18244</td>\n",
              "      <td>2018-02-04</td>\n",
              "      <td>1.63</td>\n",
              "      <td>17074.83</td>\n",
              "      <td>WestTexNewMexico</td>\n",
              "      <td>organic</td>\n",
              "    </tr>\n",
              "    <tr>\n",
              "      <th>18245</th>\n",
              "      <td>18245</td>\n",
              "      <td>2018-01-28</td>\n",
              "      <td>1.71</td>\n",
              "      <td>13888.04</td>\n",
              "      <td>WestTexNewMexico</td>\n",
              "      <td>organic</td>\n",
              "    </tr>\n",
              "    <tr>\n",
              "      <th>18246</th>\n",
              "      <td>18246</td>\n",
              "      <td>2018-01-21</td>\n",
              "      <td>1.87</td>\n",
              "      <td>13766.76</td>\n",
              "      <td>WestTexNewMexico</td>\n",
              "      <td>organic</td>\n",
              "    </tr>\n",
              "    <tr>\n",
              "      <th>18247</th>\n",
              "      <td>18247</td>\n",
              "      <td>2018-01-14</td>\n",
              "      <td>1.93</td>\n",
              "      <td>16205.22</td>\n",
              "      <td>WestTexNewMexico</td>\n",
              "      <td>organic</td>\n",
              "    </tr>\n",
              "    <tr>\n",
              "      <th>18248</th>\n",
              "      <td>18248</td>\n",
              "      <td>2018-01-07</td>\n",
              "      <td>1.62</td>\n",
              "      <td>17489.58</td>\n",
              "      <td>WestTexNewMexico</td>\n",
              "      <td>organic</td>\n",
              "    </tr>\n",
              "  </tbody>\n",
              "</table>\n",
              "<p>18249 rows × 6 columns</p>\n",
              "</div>"
            ],
            "text/plain": [
              "       Unnamed: 0        Date  ...            Region          Type\n",
              "0               0  2015-12-27  ...            Albany  conventional\n",
              "1               1  2015-12-20  ...            Albany  conventional\n",
              "2               2  2015-12-13  ...            Albany  conventional\n",
              "3               3  2015-12-06  ...            Albany  conventional\n",
              "4               4  2015-11-29  ...            Albany  conventional\n",
              "...           ...         ...  ...               ...           ...\n",
              "18244       18244  2018-02-04  ...  WestTexNewMexico       organic\n",
              "18245       18245  2018-01-28  ...  WestTexNewMexico       organic\n",
              "18246       18246  2018-01-21  ...  WestTexNewMexico       organic\n",
              "18247       18247  2018-01-14  ...  WestTexNewMexico       organic\n",
              "18248       18248  2018-01-07  ...  WestTexNewMexico       organic\n",
              "\n",
              "[18249 rows x 6 columns]"
            ]
          },
          "metadata": {},
          "execution_count": 67
        }
      ]
    },
    {
      "cell_type": "markdown",
      "metadata": {
        "id": "g85H55mM93_p"
      },
      "source": [
        "**(c)** Para que todos os labels das colunas fiquem padronizados, renomeie aqueles que estão iniciando em letra minúscula para que iniciem em letra maiúscula."
      ]
    },
    {
      "cell_type": "code",
      "metadata": {
        "id": "GPRAQcu_12wS"
      },
      "source": [
        "#Método rename : deve ter como parâmetro o que será renomeado (nosso caso, colunas), \"nome atual\" : \"nome futuro\".\n",
        "\n",
        "avocado_completo.rename(columns={\"year\": \"Year\", \"region\": \"Region\", \"type\":\"Type\"}, inplace= True)"
      ],
      "execution_count": 47,
      "outputs": []
    },
    {
      "cell_type": "markdown",
      "metadata": {
        "id": "LxH-w-pG-JzQ"
      },
      "source": [
        "**(d) Uma vez que você já possui uma coluna com a data, remova a coluna que apresenta o ano.**\n"
      ]
    },
    {
      "cell_type": "code",
      "metadata": {
        "id": "Y-B4YNRl3xzL"
      },
      "source": [
        "#Método drop serve para apagar algo, e deve conter no parâmetro o que será apagado, o axis=1 (quantidade de eixo.No caso =1 pq é o vertical - Coluna)\n",
        "#Por padrão o  inplace = False, quando for assim, não precisa explicitar. Caso queira salvar essa alteração no arquivo original, o inplace = True.\n",
        "\n",
        "avocado_completo.drop([\"Year\"], axis=1, inplace=True)"
      ],
      "execution_count": 48,
      "outputs": []
    },
    {
      "cell_type": "markdown",
      "metadata": {
        "id": "vbghHo4hHl5N"
      },
      "source": [
        "**QUESTÃO 3**\n",
        "Carregue, em um objeto DataFrame, o mesmo dataset que você salvou na questão Q1, agrupe os dados do DF pelo tipo do abacate e, em seguida, obtenha:\n",
        "\n",
        "(a) A volume total de abacates vendidos para cada tipo.\n",
        "\n",
        "(b) O preço médio dos abacates vendidos para cada tipo."
      ]
    },
    {
      "cell_type": "code",
      "metadata": {
        "id": "Z3X7LwlJHrDH"
      },
      "source": [
        "#Leitura do arquivo csv.\n",
        "avocado_completo = pd.read_csv(\"L2_Pandas_Questao1_Avocado.csv\", sep=\"\\t\") "
      ],
      "execution_count": 69,
      "outputs": []
    },
    {
      "cell_type": "markdown",
      "metadata": {
        "id": "7s5KlUzxHzsO"
      },
      "source": [
        "**(a) A volume total de abacates vendidos para cada tipo.**"
      ]
    },
    {
      "cell_type": "code",
      "metadata": {
        "colab": {
          "base_uri": "https://localhost:8080/",
          "height": 140
        },
        "id": "UE9dmCq4IGK-",
        "outputId": "f7502e9e-0a05-43d5-f192-9eb2a9d835f6"
      },
      "source": [
        "#Variável que recebe apenas as Volume Total e tipo.\n",
        "avocado_volume_tipo =[\"Total Volume\", \"type\"] \n",
        "\n",
        "# Filtra as colunas armazenadas na variável avocado_preco_tipo\n",
        "avocados_por_tipo = avocado_completo.filter(items = avocado_volume_tipo)  \n",
        "\n",
        "# agrupa por tipo (coluna type) e calcula a soma, por tipo, usando a coluna Total Volume.\n",
        "avocados_por_tipo.groupby([\"type\"]).sum()"
      ],
      "execution_count": 72,
      "outputs": [
        {
          "output_type": "execute_result",
          "data": {
            "text/html": [
              "<div>\n",
              "<style scoped>\n",
              "    .dataframe tbody tr th:only-of-type {\n",
              "        vertical-align: middle;\n",
              "    }\n",
              "\n",
              "    .dataframe tbody tr th {\n",
              "        vertical-align: top;\n",
              "    }\n",
              "\n",
              "    .dataframe thead th {\n",
              "        text-align: right;\n",
              "    }\n",
              "</style>\n",
              "<table border=\"1\" class=\"dataframe\">\n",
              "  <thead>\n",
              "    <tr style=\"text-align: right;\">\n",
              "      <th></th>\n",
              "      <th>Total Volume</th>\n",
              "    </tr>\n",
              "    <tr>\n",
              "      <th>type</th>\n",
              "      <th></th>\n",
              "    </tr>\n",
              "  </thead>\n",
              "  <tbody>\n",
              "    <tr>\n",
              "      <th>conventional</th>\n",
              "      <td>1.508722e+10</td>\n",
              "    </tr>\n",
              "    <tr>\n",
              "      <th>organic</th>\n",
              "      <td>4.361817e+08</td>\n",
              "    </tr>\n",
              "  </tbody>\n",
              "</table>\n",
              "</div>"
            ],
            "text/plain": [
              "              Total Volume\n",
              "type                      \n",
              "conventional  1.508722e+10\n",
              "organic       4.361817e+08"
            ]
          },
          "metadata": {},
          "execution_count": 72
        }
      ]
    },
    {
      "cell_type": "markdown",
      "metadata": {
        "id": "fvN2NHrhLJpB"
      },
      "source": [
        "**(b) O preço médio dos abacates vendidos para cada tipo.**"
      ]
    },
    {
      "cell_type": "code",
      "metadata": {
        "colab": {
          "base_uri": "https://localhost:8080/",
          "height": 140
        },
        "id": "FYubaRkSLLXf",
        "outputId": "c618773d-2f95-4f2e-aca5-3d29ff733de3"
      },
      "source": [
        "#Variável que recebe apenas as colunas de preço e tipo. \n",
        "avocado_preco_tipo =[\"AveragePrice\", \"type\"] \n",
        "\n",
        "# Filtra as colunas armazenadas na variável avocado_preco_tipo e armazena esse filtro em outra variável,avocados_preco_medio.\n",
        "avocados_preco_medio = avocado_completo.filter(items = avocado_preco_tipo) \n",
        "\n",
        "# agrupa por tipo (coluna type) e calcula a média, por tipo, usando a coluna AveragePrice.\n",
        "avocados_preco_medio.groupby(\"type\").mean() "
      ],
      "execution_count": 78,
      "outputs": [
        {
          "output_type": "execute_result",
          "data": {
            "text/html": [
              "<div>\n",
              "<style scoped>\n",
              "    .dataframe tbody tr th:only-of-type {\n",
              "        vertical-align: middle;\n",
              "    }\n",
              "\n",
              "    .dataframe tbody tr th {\n",
              "        vertical-align: top;\n",
              "    }\n",
              "\n",
              "    .dataframe thead th {\n",
              "        text-align: right;\n",
              "    }\n",
              "</style>\n",
              "<table border=\"1\" class=\"dataframe\">\n",
              "  <thead>\n",
              "    <tr style=\"text-align: right;\">\n",
              "      <th></th>\n",
              "      <th>AveragePrice</th>\n",
              "    </tr>\n",
              "    <tr>\n",
              "      <th>type</th>\n",
              "      <th></th>\n",
              "    </tr>\n",
              "  </thead>\n",
              "  <tbody>\n",
              "    <tr>\n",
              "      <th>conventional</th>\n",
              "      <td>1.158040</td>\n",
              "    </tr>\n",
              "    <tr>\n",
              "      <th>organic</th>\n",
              "      <td>1.653999</td>\n",
              "    </tr>\n",
              "  </tbody>\n",
              "</table>\n",
              "</div>"
            ],
            "text/plain": [
              "              AveragePrice\n",
              "type                      \n",
              "conventional      1.158040\n",
              "organic           1.653999"
            ]
          },
          "metadata": {},
          "execution_count": 78
        }
      ]
    }
  ]
}